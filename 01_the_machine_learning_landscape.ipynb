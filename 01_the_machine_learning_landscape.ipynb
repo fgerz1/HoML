{
 "cells": [
  {
   "cell_type": "markdown",
   "metadata": {},
   "source": [
    "# Notes:\n",
    "\n",
    "### Batch Learning: (p.18)\n",
    "[...] Unfortunately, a model´s performance tends to decay slowly over time, simply because the world continues to evolve while the model remains unchanged. This phenomenon is called model rot or data drift. The solution is to regularly retrain the model on up-to-date data. How often do you need to that depends on the use case: if the model classifies pictures of cats and dogs, its performance will decay very slowly, but if the model deal with fast-evolving systems, for example making predictions on the financial market, then it is likely to decay quite fast.\n",
    "\n",
    "(Even a model trained to classify pictures of cats and dogs may need to be retrained regularly, not because cats and dogs will mutate overnight, but because cameras keep changing, along with image formats, sharpness, brightness, and size ratios. Moreover, people may love different breeds next year, or they may decide to dress their pets with tiny hats - who knows?)\n",
    "\n",
    "\n",
    "\n",
    "### Generalization error: The error rate on new cases/data\n",
    "### Traininng error: Mistakes on the training set\n",
    "\n",
    "### Holdout validation: \n",
    "Hold out part of the training data (validation set, development set, dev set): Train multiple models with various hyperparamters on the reduced training set (full training - validation set: Then select the model that performs best on the validation set, After this holdout validation process, you train the best model on the full training set (including the validation set-> final model. Lastly you evaluate this final model on the test set to get an estimate of the generalization error))\n",
    "\n",
    "A test set is used to estimate the generalization error that a model will make on new instances, before the model is launched in production.\n",
    "A validation set is used to compare models. It makes it possible to select the best model and tune the hyperparameters.\n",
    "\n",
    "### Machine Learing Definiton: \n",
    "Machine Learning is about building systems that can learn from data. Learning means getting better at some task, given some performance measure.\n",
    "\n",
    "### Model parameter vs model hyperparameter:\n",
    "A model has one or more model parameters that determine what it will predict given a new instance (e.g., the slope of a linear model). A learning algorithm tries to find optimal values for these parameters such that the model generalizes well to new instances. A hyperparameter is a parameter of the learning algorithm itself, not of the model (e.g., the amount of regularization to apply).\n",
    "\n",
    "### Model-based algorithms:\n",
    "search for optimal values for model parameters. Train such systems by minimizing a cost function"
   ]
  }
 ],
 "metadata": {
  "language_info": {
   "name": "python"
  }
 },
 "nbformat": 4,
 "nbformat_minor": 2
}
