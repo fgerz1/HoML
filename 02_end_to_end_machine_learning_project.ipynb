{
 "cells": [
  {
   "cell_type": "markdown",
   "metadata": {},
   "source": [
    "# 1. Look at the big picture"
   ]
  },
  {
   "cell_type": "markdown",
   "metadata": {},
   "source": [
    "## 1.1 Frame the Problem"
   ]
  },
  {
   "cell_type": "markdown",
   "metadata": {},
   "source": [
    "- objective\n",
    "- performance measure to evaluate the model\n",
    "- effort needed to tweak the model satisfactoraly\n",
    "- current solution -> reference for performance and insights how to solve the problems\n",
    "- check the assumptions\n",
    "- get the data\n",
    "- take a quick look at the data structure"
   ]
  },
  {
   "cell_type": "markdown",
   "metadata": {},
   "source": [
    "Notes: \n",
    "m           := number of instances in the dataset\n",
    "x^(i)       := vector of all feature values (excluding the label) of the i^th instance\n",
    "y^(i)       := its label (desired output for that instance)\n",
    "X           := Matrix of all feature values (excl. labels)\n",
    "h           := hypothesis (system prediction function) : y_hat^(1) = h(x^((i))) -> der vohergesagte Wert deines Systems für jeweilige Instanzen\n",
    "RMSE(X,h)   := is the cost function measured on the set of examples using your hypothesis h  (Measure the distance between two vectors)\n",
    "\n",
    "RMSE is more sensitive to outlier than MAE\n",
    "    "
   ]
  }
 ],
 "metadata": {
  "language_info": {
   "name": "python"
  }
 },
 "nbformat": 4,
 "nbformat_minor": 2
}
